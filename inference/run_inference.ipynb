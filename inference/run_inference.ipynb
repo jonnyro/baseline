{
 "cells": [
  {
   "cell_type": "markdown",
   "metadata": {},
   "source": [
    "# run_inference Jupyter Notebook\n",
    "\n",
    "## Notes\n",
    "- This notebook assumes an anaconda environment\n",
    "- I had to add `l.close()` at the end of the main function in order for my `report.csv` file to write\n",
    "- The `%run` command is fickle with quotation marks\n",
    "- create_detections.py will skip over an image if there already exists a `*.predictions.txt` file\n",
    "\n",
    "## ToDo\n",
    "- Graph `report.csv` file for comparison\n",
    "\n",
    "## Run Commands\n",
    "**Only 5 images:**\n",
    "~~~\n",
    "%run create_detections.py -a <access_key_id> -s <secret_key> -b ara-vhd-mlaipet-aws -p val_images_subset/ -l report.csv -r us-east-2 -c ../../models/multires_aug.pb\n",
    "~~~\n",
    "\n",
    "**All images:**\n",
    "~~~\n",
    "%run create_detections.py -a <access_key_id> -s <secret_key> -b ara-vhd-mlaipet-aws -p val_images/ -l report.csv -r us-east-2 -c ../../models/multires_aug.pb\n",
    "~~~"
   ]
  },
  {
   "cell_type": "code",
   "execution_count": 1,
   "metadata": {},
   "outputs": [],
   "source": [
    "%run create_detections.py -a <access_key_id> -s <secret_key> -b ara-vhd-mlaipet-aws -p val_images_subset/ -l report.csv -r us-east-2 -c ../../models/multires_aug.pb"
   ]
  }
 ],
 "metadata": {
  "kernelspec": {
   "display_name": "Python 3",
   "language": "python",
   "name": "python3"
  },
  "language_info": {
   "codemirror_mode": {
    "name": "ipython",
    "version": 3
   },
   "file_extension": ".py",
   "mimetype": "text/x-python",
   "name": "python",
   "nbconvert_exporter": "python",
   "pygments_lexer": "ipython3",
   "version": "3.7.3"
  }
 },
 "nbformat": 4,
 "nbformat_minor": 2
}
