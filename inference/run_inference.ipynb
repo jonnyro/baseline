{
 "cells": [
  {
   "cell_type": "markdown",
   "metadata": {},
   "source": [
    "# run_inference Jupyter Notebook\n",
    "\n",
    "## Notes\n",
    "- This notebook assumes an anaconda environment\n",
    "- I had to add `l.close()` at the end of the main function in order for my `report.csv` file to write\n",
    "    - Per Kyle's example, I moved the report.csv writes/closes inside the for loop so that progress would not be lost on crash\n",
    "- The `%run` command is fickle with quotation marks\n",
    "- create_detections.py will skip over an image if there already exists a `*.predictions.txt` file\n",
    "- The graphing cells also produce .png images\n",
    "\n",
    "## ToDo\n",
    "- ~Graph `report.csv` file for comparison~\n",
    "\n",
    "## Run Commands\n",
    "**Only 5 images:**\n",
    "~~~\n",
    "%run create_detections.py -a <access_key_id> -s <secret_key> -b ara-vhd-mlaipet-aws -p val_images_subset/ -l report.csv -r us-east-2 -c ../../models/multires_aug.pb\n",
    "~~~\n",
    "\n",
    "**All images:**\n",
    "~~~\n",
    "%run create_detections.py -a <access_key_id> -s <secret_key> -b ara-vhd-mlaipet-aws -p val_images/ -l report.csv -r us-east-2 -c ../../models/multires_aug.pb\n",
    "~~~"
   ]
  },
  {
   "cell_type": "code",
   "execution_count": null,
   "metadata": {},
   "outputs": [],
   "source": [
    "%run create_detections.py -a <access_key_id> -s <secret_key> -b ara-vhd-mlaipet-aws -p val_images_subset/ -l report.csv -r us-east-2 -c ../../models/multires_aug.pb"
   ]
  },
  {
   "cell_type": "code",
   "execution_count": 6,
   "metadata": {},
   "outputs": [],
   "source": [
    "# Common things used for all graphs\n",
    "%matplotlib inline\n",
    "import matplotlib.pyplot as plt\n",
    "import pandas as pd\n",
    "\n",
    "df = pd.read_csv('report.csv')\n",
    "bar_height = int(df.size / 8)\n",
    "\n",
    "keys = []"
   ]
  },
  {
   "cell_type": "code",
   "execution_count": null,
   "metadata": {},
   "outputs": [],
   "source": [
    "# Chip Times\n",
    "keys.clear()\n",
    "chip_times = []\n",
    "\n",
    "# Sort by relevant info\n",
    "for row in df.sort_values(by=[' chip_time']).iterrows():\n",
    "    r = row[1]\n",
    "    keys.append(r[' key'][18:])\n",
    "    chip_times.append(r[' chip_time'])\n",
    "\n",
    "# Bar Graph\n",
    "plt.figure(figsize=(10,bar_height))\n",
    "plt.barh(keys, chip_times)\n",
    "plt.title(\"Chip Times\")\n",
    "plt.savefig(\"ChipTimes_BarGraph.png\")\n",
    "plt.show()\n",
    "\n"
   ]
  },
  {
   "cell_type": "code",
   "execution_count": null,
   "metadata": {},
   "outputs": [],
   "source": [
    "# Inference Times\n",
    "keys.clear()\n",
    "inference_times = []\n",
    "\n",
    "# Sort by relevant info\n",
    "for row in df.sort_values(by=[' inference_time']).iterrows():\n",
    "    r = row[1]\n",
    "    keys.append(r[' key'][18:])\n",
    "    inference_times.append(r[' inference_time'])\n",
    "\n",
    "# Bar Graph\n",
    "plt.figure(figsize=(10,bar_height))\n",
    "plt.barh(keys, inference_times)\n",
    "plt.title(\"Inference Times\")\n",
    "plt.savefig(\"InferenceTimes_BarGraph.png\")\n",
    "plt.show()"
   ]
  },
  {
   "cell_type": "code",
   "execution_count": null,
   "metadata": {},
   "outputs": [],
   "source": [
    "# Rescale Times\n",
    "keys.clear()\n",
    "rescale_times = []\n",
    "\n",
    "# Sort by relevant info\n",
    "for row in df.sort_values(by=[' rescale_time']).iterrows():\n",
    "    r = row[1]\n",
    "    keys.append(r[' key'][18:])\n",
    "    rescale_times.append(r[' rescale_time'])\n",
    "\n",
    "# Bar Graph\n",
    "plt.figure(figsize=(10,bar_height))\n",
    "plt.barh(keys, rescale_times)\n",
    "plt.title(\"Rescale Times\")\n",
    "plt.savefig(\"RescaleTimes_BarGraph.png\")\n",
    "plt.show()"
   ]
  },
  {
   "cell_type": "code",
   "execution_count": null,
   "metadata": {},
   "outputs": [],
   "source": [
    "# Complete Times\n",
    "keys.clear()\n",
    "complete_times = []\n",
    "\n",
    "# Sort by relevant info\n",
    "for row in df.sort_values(by=[' complete_time']).iterrows():\n",
    "    r = row[1]\n",
    "    keys.append(r[' key'][18:])\n",
    "    complete_times.append(r[' complete_time'])\n",
    "\n",
    "# Bar Graph\n",
    "plt.figure(figsize=(10,bar_height))\n",
    "plt.barh(keys, complete_times)\n",
    "plt.title(\"Complete Times\")\n",
    "plt.savefig(\"CompleteTimes_BarGraph.png\")\n",
    "plt.show()"
   ]
  },
  {
   "cell_type": "code",
   "execution_count": null,
   "metadata": {},
   "outputs": [],
   "source": []
  }
 ],
 "metadata": {
  "kernelspec": {
   "display_name": "Python 3",
   "language": "python",
   "name": "python3"
  },
  "language_info": {
   "codemirror_mode": {
    "name": "ipython",
    "version": 3
   },
   "file_extension": ".py",
   "mimetype": "text/x-python",
   "name": "python",
   "nbconvert_exporter": "python",
   "pygments_lexer": "ipython3",
   "version": "3.7.3"
  }
 },
 "nbformat": 4,
 "nbformat_minor": 2
}
